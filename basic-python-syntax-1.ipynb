{
 "cells": [
  {
   "cell_type": "markdown",
   "metadata": {},
   "source": [
    "<a name=\"top\"></a>\n",
    "# Basic Python Guide 1\n",
    "\n",
    "### Nathan Bick\n",
    "\n",
    "Here we have a variety of python concepts ranging from the most beginner to slightly more advanced. Each has a short explanation as well as a code sample. "
   ]
  },
  {
   "cell_type": "code",
   "execution_count": null,
   "metadata": {},
   "outputs": [],
   "source": [
    "%reset"
   ]
  },
  {
   "cell_type": "markdown",
   "metadata": {},
   "source": [
    "# Table of Contents\n",
    "\n",
    "1. [ Variable Declaration ](#vardec)\n",
    "2. [ Namespaces ](#namespaces)\n",
    "3. [ Math Operations ](#mathops)"
   ]
  },
  {
   "cell_type": "markdown",
   "metadata": {},
   "source": [
    "<a name=\"vardec\"></a>\n",
    "# 1. Variable Declaration\n",
    "\n",
    "Here we show how to declare some of the most basic underlying types of variabels in python."
   ]
  },
  {
   "cell_type": "code",
   "execution_count": 17,
   "metadata": {},
   "outputs": [
    {
     "name": "stdout",
     "output_type": "stream",
     "text": [
      "1\n",
      "1.0\n",
      "2.0\n",
      "hello\n",
      "world\n",
      "hello world\n"
     ]
    }
   ],
   "source": [
    "# int\n",
    "numInteger = 1\n",
    "print(numInteger)\n",
    "\n",
    "# float\n",
    "numFloat = 1.0\n",
    "print(numFloat)\n",
    "\n",
    "# add the above, get a float (type coercion)\n",
    "num = numInteger + numFloat\n",
    "print(num)\n",
    "\n",
    "# string\n",
    "myString1 = 'hello'\n",
    "print(myString1)\n",
    "\n",
    "myString2 = 'world'\n",
    "print(myString2)\n",
    "\n",
    "print(myString1 + \" \" + myString2)"
   ]
  },
  {
   "cell_type": "markdown",
   "metadata": {},
   "source": [
    "<a name=\"namespaces\"></a>\n",
    "# 2. Namespaces\n",
    "\n",
    "Namespaces in python is closely related to the concept of \"variable scoping\". In a python environment, ther are different levels of collections of objects. These levels determine which objects are visible or accessible in the environment at what time. Often these levels, called namespaces, are created as we write functions and define variables within those functions. For example, the broadest namespace is the Global namespace, and variables defined in this namespace are viewable to all namespaces. If we define a function, we then create a new smaller namespace and within that namespace those variables are only viewable if we are \"in\" that namespace. "
   ]
  },
  {
   "cell_type": "code",
   "execution_count": 18,
   "metadata": {},
   "outputs": [
    {
     "name": "stdout",
     "output_type": "stream",
     "text": [
      "1\n",
      "2\n"
     ]
    }
   ],
   "source": [
    "# here we are in the global namespace\n",
    "var = 1\n",
    "\n",
    "# here we are creating a smaller namespace that is only inmside the function\n",
    "def print_var():\n",
    "    var = 2\n",
    "    print(var)\n",
    "    \n",
    "# we are accessing var in the global namespace\n",
    "print(var)\n",
    "\n",
    "# we are accessing var in the lcoal namespace\n",
    "print_var()"
   ]
  },
  {
   "cell_type": "code",
   "execution_count": 19,
   "metadata": {},
   "outputs": [
    {
     "name": "stdout",
     "output_type": "stream",
     "text": [
      "apple\n"
     ]
    }
   ],
   "source": [
    "# If a variable is not defined within the function, python \n",
    "# will look in the outer scope\n",
    "a = 'apple'\n",
    "\n",
    "def foo():\n",
    "    print(a)\n",
    "    \n",
    "foo()"
   ]
  },
  {
   "cell_type": "code",
   "execution_count": 20,
   "metadata": {},
   "outputs": [
    {
     "name": "stdout",
     "output_type": "stream",
     "text": [
      "apple\n",
      "banana\n"
     ]
    }
   ],
   "source": [
    "# Sometimes you have multiple namespaces nested in one another. \n",
    "# Specify the nect level out with \"nonLocal\" and the global\n",
    "# namespace with 'global'\n",
    "a = 'apple'\n",
    "\n",
    "def foo1():\n",
    "    a = 'banana'\n",
    "    def bar():\n",
    "        global a\n",
    "        return a\n",
    "    print(bar())\n",
    "     \n",
    "def foo2():\n",
    "    a = 'banana'\n",
    "    def bar():\n",
    "        nonlocal a    \n",
    "        return a\n",
    "    print(bar())\n",
    "    \n",
    "foo1()\n",
    "foo2()"
   ]
  },
  {
   "cell_type": "markdown",
   "metadata": {},
   "source": [
    "<a name=\"mathops\"></a>\n",
    "# 3. Math Operations: Addition, subtraction, multiplcation, division, exponentiation, modulo\n",
    "\n",
    "Many of the basic math operations are included in base python."
   ]
  },
  {
   "cell_type": "code",
   "execution_count": 21,
   "metadata": {},
   "outputs": [
    {
     "name": "stdout",
     "output_type": "stream",
     "text": [
      "3\n",
      "-2.2\n",
      "2.2\n",
      "1.1\n",
      "1.2100000000000002\n",
      "True\n"
     ]
    }
   ],
   "source": [
    "# addition\n",
    "a,b = 1,2\n",
    "c = a + b\n",
    "print(c)\n",
    "\n",
    "# subtraction\n",
    "d = 5.2\n",
    "e = c - d\n",
    "print(e)\n",
    "\n",
    "# multiplication\n",
    "f = -1\n",
    "g = f * e\n",
    "print(g)\n",
    "\n",
    "# division\n",
    "h = g / b\n",
    "print(h)\n",
    "\n",
    "# exponentiation\n",
    "i = h ** 2\n",
    "print(i)\n",
    "\n",
    "# modulo\n",
    "print(4 % 2 == 0) # 4 is divisible by 2"
   ]
  },
  {
   "cell_type": "markdown",
   "metadata": {},
   "source": [
    "# 3. Import other math from math module\n",
    "\n",
    "While the base math operations are included in base python, there are many more operations that are included in the `math` module. The following examples showcase a few of these math operations as well as how to import a module of any kind into python code. "
   ]
  },
  {
   "cell_type": "code",
   "execution_count": 22,
   "metadata": {},
   "outputs": [
    {
     "name": "stdout",
     "output_type": "stream",
     "text": [
      "['__doc__', '__file__', '__loader__', '__name__', '__package__', '__spec__', 'acos', 'acosh', 'asin', 'asinh', 'atan', 'atan2', 'atanh', 'ceil', 'copysign', 'cos', 'cosh', 'degrees', 'e', 'erf', 'erfc', 'exp', 'expm1', 'fabs', 'factorial', 'floor', 'fmod', 'frexp', 'fsum', 'gamma', 'gcd', 'hypot', 'inf', 'isclose', 'isfinite', 'isinf', 'isnan', 'ldexp', 'lgamma', 'log', 'log10', 'log1p', 'log2', 'modf', 'nan', 'pi', 'pow', 'radians', 'remainder', 'sin', 'sinh', 'sqrt', 'tan', 'tanh', 'tau', 'trunc']\n",
      "3.141592653589793\n",
      "22.45915771836104\n"
     ]
    }
   ],
   "source": [
    "import math\n",
    "\n",
    "# detail the math module\n",
    "print(dir(math))\n",
    "\n",
    "# use a few of the math functions\n",
    "myPi = math.pi\n",
    "print(myPi)\n",
    "\n",
    "# pi to the power e\n",
    "print(math.pi ** math.e)"
   ]
  },
  {
   "cell_type": "markdown",
   "metadata": {},
   "source": [
    "# 5. Boolean Expressions\n",
    "\n",
    "Booleans are a type in python that can be valued either TRUE or FALSE. The type is called `bool`. They are not strings, not integers, although `bools` can be coerced to integers 1 and 0. Expressions can be evaluated to TRUE or FALSE and this is useful for controlling the flow of code by testing whether conditions are true or false, for example. "
   ]
  },
  {
   "cell_type": "code",
   "execution_count": 23,
   "metadata": {},
   "outputs": [
    {
     "data": {
      "text/plain": [
       "True"
      ]
     },
     "execution_count": 23,
     "metadata": {},
     "output_type": "execute_result"
    }
   ],
   "source": [
    "# evaluating a condition and returning the result\n",
    "var = 1\n",
    "var == 1"
   ]
  },
  {
   "cell_type": "code",
   "execution_count": 24,
   "metadata": {},
   "outputs": [
    {
     "data": {
      "text/plain": [
       "True"
      ]
     },
     "execution_count": 24,
     "metadata": {},
     "output_type": "execute_result"
    }
   ],
   "source": [
    "# coerece TRUE to int\n",
    "1 == True"
   ]
  },
  {
   "cell_type": "markdown",
   "metadata": {},
   "source": [
    "# 6. If, Else, and Range Statements\n",
    "\n",
    "In python we can combine the previous concept of Boolean expressions to control the flow of code using if/else statements. It is possible to wrap these statements around code and the evaluation of the boolean condition (whether the condition is true or not) determines whether the blocks of code are evaluated."
   ]
  },
  {
   "cell_type": "code",
   "execution_count": 14,
   "metadata": {},
   "outputs": [
    {
     "name": "stdout",
     "output_type": "stream",
     "text": [
      "Saturday\n"
     ]
    }
   ],
   "source": [
    "from datetime import date\n",
    "import calendar\n",
    "my_date = date.today()\n",
    "today = calendar.day_name[my_date.weekday()]\n",
    "print(today)"
   ]
  },
  {
   "cell_type": "code",
   "execution_count": 16,
   "metadata": {},
   "outputs": [
    {
     "name": "stdout",
     "output_type": "stream",
     "text": [
      "Tday is not Tuesday!\n",
      "Today is Saturday.\n"
     ]
    }
   ],
   "source": [
    "if (today == 'Tuesday'):\n",
    "    print('Today is Tuesday!')\n",
    "else:\n",
    "    print('Tday is not Tuesday!\\n' + 'Today is ' + today + \".\")"
   ]
  },
  {
   "cell_type": "markdown",
   "metadata": {},
   "source": [
    "<a href=\"#top\">Back to top</a>"
   ]
  }
 ],
 "metadata": {
  "kernelspec": {
   "display_name": "Python 3",
   "language": "python",
   "name": "python3"
  },
  "language_info": {
   "codemirror_mode": {
    "name": "ipython",
    "version": 3
   },
   "file_extension": ".py",
   "mimetype": "text/x-python",
   "name": "python",
   "nbconvert_exporter": "python",
   "pygments_lexer": "ipython3",
   "version": "3.7.1"
  }
 },
 "nbformat": 4,
 "nbformat_minor": 2
}
