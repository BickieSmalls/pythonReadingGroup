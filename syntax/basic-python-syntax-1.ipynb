{
 "cells": [
  {
   "cell_type": "markdown",
   "metadata": {},
   "source": [
    "<a name=\"top\"></a>\n",
    "# Basic Python Guide 1\n",
    "\n",
    "### Nathan Bick\n",
    "\n",
    "Here we have a variety of python concepts ranging from the most beginner to slightly more advanced. Each has a short explanation as well as a code sample. "
   ]
  },
  {
   "cell_type": "code",
   "execution_count": null,
   "metadata": {},
   "outputs": [],
   "source": [
    "%reset"
   ]
  },
  {
   "cell_type": "markdown",
   "metadata": {},
   "source": [
    "# Table of Contents\n",
    "\n",
    "1. [ Variable Declaration ](#vardec)\n",
    "2. [ Namespaces ](#namespaces)\n",
    "3. [ Math Operations ](#mathops)"
   ]
  },
  {
   "cell_type": "markdown",
   "metadata": {},
   "source": [
    "<a name=\"vardec\"></a>\n",
    "# 1. Variable Declaration\n",
    "\n",
    "Here we show how to declare some of the most basic underlying types of variabels in python."
   ]
  },
  {
   "cell_type": "code",
   "execution_count": 17,
   "metadata": {},
   "outputs": [
    {
     "name": "stdout",
     "output_type": "stream",
     "text": [
      "1\n",
      "1.0\n",
      "2.0\n",
      "hello\n",
      "world\n",
      "hello world\n"
     ]
    }
   ],
   "source": [
    "# int\n",
    "numInteger = 1\n",
    "print(numInteger)\n",
    "\n",
    "# float\n",
    "numFloat = 1.0\n",
    "print(numFloat)\n",
    "\n",
    "# add the above, get a float (type coercion)\n",
    "num = numInteger + numFloat\n",
    "print(num)\n",
    "\n",
    "# string\n",
    "myString1 = 'hello'\n",
    "print(myString1)\n",
    "\n",
    "myString2 = 'world'\n",
    "print(myString2)\n",
    "\n",
    "print(myString1 + \" \" + myString2)"
   ]
  },
  {
   "cell_type": "markdown",
   "metadata": {},
   "source": [
    "<a name=\"namespaces\"></a>\n",
    "# 2. Namespaces\n",
    "\n",
    "Namespaces in python is closely related to the concept of \"variable scoping\". In a python environment, ther are different levels of collections of objects. These levels determine which objects are visible or accessible in the environment at what time. Often these levels, called namespaces, are created as we write functions and define variables within those functions. For example, the broadest namespace is the Global namespace, and variables defined in this namespace are viewable to all namespaces. If we define a function, we then create a new smaller namespace and within that namespace those variables are only viewable if we are \"in\" that namespace. "
   ]
  },
  {
   "cell_type": "code",
   "execution_count": 18,
   "metadata": {},
   "outputs": [
    {
     "name": "stdout",
     "output_type": "stream",
     "text": [
      "1\n",
      "2\n"
     ]
    }
   ],
   "source": [
    "# here we are in the global namespace\n",
    "var = 1\n",
    "\n",
    "# here we are creating a smaller namespace that is only inmside the function\n",
    "def print_var():\n",
    "    var = 2\n",
    "    print(var)\n",
    "    \n",
    "# we are accessing var in the global namespace\n",
    "print(var)\n",
    "\n",
    "# we are accessing var in the lcoal namespace\n",
    "print_var()"
   ]
  },
  {
   "cell_type": "code",
   "execution_count": 19,
   "metadata": {},
   "outputs": [
    {
     "name": "stdout",
     "output_type": "stream",
     "text": [
      "apple\n"
     ]
    }
   ],
   "source": [
    "# If a variable is not defined within the function, python \n",
    "# will look in the outer scope\n",
    "a = 'apple'\n",
    "\n",
    "def foo():\n",
    "    print(a)\n",
    "    \n",
    "foo()"
   ]
  },
  {
   "cell_type": "code",
   "execution_count": 20,
   "metadata": {},
   "outputs": [
    {
     "name": "stdout",
     "output_type": "stream",
     "text": [
      "apple\n",
      "banana\n"
     ]
    }
   ],
   "source": [
    "# Sometimes you have multiple namespaces nested in one another. \n",
    "# Specify the nect level out with \"nonLocal\" and the global\n",
    "# namespace with 'global'\n",
    "a = 'apple'\n",
    "\n",
    "def foo1():\n",
    "    a = 'banana'\n",
    "    def bar():\n",
    "        global a\n",
    "        return a\n",
    "    print(bar())\n",
    "     \n",
    "def foo2():\n",
    "    a = 'banana'\n",
    "    def bar():\n",
    "        nonlocal a    \n",
    "        return a\n",
    "    print(bar())\n",
    "    \n",
    "foo1()\n",
    "foo2()"
   ]
  },
  {
   "cell_type": "markdown",
   "metadata": {},
   "source": [
    "<a name=\"mathops\"></a>\n",
    "# 3. Math Operations: Addition, subtraction, multiplcation, division, exponentiation, modulo\n",
    "\n",
    "Many of the basic math operations are included in base python."
   ]
  },
  {
   "cell_type": "code",
   "execution_count": 21,
   "metadata": {},
   "outputs": [
    {
     "name": "stdout",
     "output_type": "stream",
     "text": [
      "3\n",
      "-2.2\n",
      "2.2\n",
      "1.1\n",
      "1.2100000000000002\n",
      "True\n"
     ]
    }
   ],
   "source": [
    "# addition\n",
    "a,b = 1,2\n",
    "c = a + b\n",
    "print(c)\n",
    "\n",
    "# subtraction\n",
    "d = 5.2\n",
    "e = c - d\n",
    "print(e)\n",
    "\n",
    "# multiplication\n",
    "f = -1\n",
    "g = f * e\n",
    "print(g)\n",
    "\n",
    "# division\n",
    "h = g / b\n",
    "print(h)\n",
    "\n",
    "# exponentiation\n",
    "i = h ** 2\n",
    "print(i)\n",
    "\n",
    "# modulo\n",
    "print(4 % 2 == 0) # 4 is divisible by 2"
   ]
  },
  {
   "cell_type": "markdown",
   "metadata": {},
   "source": [
    "# 3. Import other math from math module\n",
    "\n",
    "While the base math operations are included in base python, there are many more operations that are included in the `math` module. The following examples showcase a few of these math operations as well as how to import a module of any kind into python code. "
   ]
  },
  {
   "cell_type": "code",
   "execution_count": 22,
   "metadata": {},
   "outputs": [
    {
     "name": "stdout",
     "output_type": "stream",
     "text": [
      "['__doc__', '__file__', '__loader__', '__name__', '__package__', '__spec__', 'acos', 'acosh', 'asin', 'asinh', 'atan', 'atan2', 'atanh', 'ceil', 'copysign', 'cos', 'cosh', 'degrees', 'e', 'erf', 'erfc', 'exp', 'expm1', 'fabs', 'factorial', 'floor', 'fmod', 'frexp', 'fsum', 'gamma', 'gcd', 'hypot', 'inf', 'isclose', 'isfinite', 'isinf', 'isnan', 'ldexp', 'lgamma', 'log', 'log10', 'log1p', 'log2', 'modf', 'nan', 'pi', 'pow', 'radians', 'remainder', 'sin', 'sinh', 'sqrt', 'tan', 'tanh', 'tau', 'trunc']\n",
      "3.141592653589793\n",
      "22.45915771836104\n"
     ]
    }
   ],
   "source": [
    "import math\n",
    "\n",
    "# detail the math module\n",
    "print(dir(math))\n",
    "\n",
    "# use a few of the math functions\n",
    "myPi = math.pi\n",
    "print(myPi)\n",
    "\n",
    "# pi to the power e\n",
    "print(math.pi ** math.e)"
   ]
  },
  {
   "cell_type": "markdown",
   "metadata": {},
   "source": [
    "# 5. Boolean Expressions\n",
    "\n",
    "Booleans are a type in python that can be valued either TRUE or FALSE. The type is called `bool`. They are not strings, not integers, although `bools` can be coerced to integers 1 and 0. Expressions can be evaluated to TRUE or FALSE and this is useful for controlling the flow of code by testing whether conditions are true or false, for example. "
   ]
  },
  {
   "cell_type": "code",
   "execution_count": 23,
   "metadata": {},
   "outputs": [
    {
     "data": {
      "text/plain": [
       "True"
      ]
     },
     "execution_count": 23,
     "metadata": {},
     "output_type": "execute_result"
    }
   ],
   "source": [
    "# evaluating a condition and returning the result\n",
    "var = 1\n",
    "var == 1"
   ]
  },
  {
   "cell_type": "code",
   "execution_count": 24,
   "metadata": {},
   "outputs": [
    {
     "data": {
      "text/plain": [
       "True"
      ]
     },
     "execution_count": 24,
     "metadata": {},
     "output_type": "execute_result"
    }
   ],
   "source": [
    "# coerece TRUE to int\n",
    "1 == True"
   ]
  },
  {
   "cell_type": "markdown",
   "metadata": {},
   "source": [
    "# 6. If, Else, and Range Statements\n",
    "\n",
    "In python we can combine the previous concept of Boolean expressions to control the flow of code using if/else statements. It is possible to wrap these statements around code and the evaluation of the boolean condition (whether the condition is true or not) determines whether the blocks of code are evaluated."
   ]
  },
  {
   "cell_type": "code",
   "execution_count": 2,
   "metadata": {},
   "outputs": [
    {
     "name": "stdout",
     "output_type": "stream",
     "text": [
      "Saturday\n"
     ]
    }
   ],
   "source": [
    "from datetime import date\n",
    "import calendar\n",
    "my_date = date.today()\n",
    "today = calendar.day_name[my_date.weekday()]\n",
    "print(today)"
   ]
  },
  {
   "cell_type": "code",
   "execution_count": 3,
   "metadata": {},
   "outputs": [
    {
     "name": "stdout",
     "output_type": "stream",
     "text": [
      "Tday is not Tuesday!\n",
      "Today is Saturday.\n"
     ]
    }
   ],
   "source": [
    "if (today == 'Tuesday'):\n",
    "    print('Today is Tuesday!')\n",
    "else:\n",
    "    print('Tday is not Tuesday!\\n' + 'Today is ' + today + \".\")"
   ]
  },
  {
   "cell_type": "markdown",
   "metadata": {},
   "source": [
    "<a href=\"#top\">Back to top</a>"
   ]
  },
  {
   "cell_type": "markdown",
   "metadata": {},
   "source": [
    "# 7. Ternary Expressions\n",
    "\n",
    "Ternary Expressions are a shorthand in python for the type of control flow that is exemplified above using if/else statments. Sometimes we as users want to write a small code chunck without the more formal code infrastructure that is required for long-form code"
   ]
  },
  {
   "cell_type": "code",
   "execution_count": 4,
   "metadata": {},
   "outputs": [
    {
     "name": "stdout",
     "output_type": "stream",
     "text": [
      "Tomorrow is not Wednesday\n"
     ]
    }
   ],
   "source": [
    "tomorrow = 'Wednesday' if today == 'Tuesday' else 'not Wednesday'\n",
    "\n",
    "print('Tomorrow is ' + tomorrow)"
   ]
  },
  {
   "cell_type": "markdown",
   "metadata": {},
   "source": [
    "# 8. For and While Loops\n",
    "\n",
    "Below we have examples of `for` and `while` loops, which are the most basic and important tools for automating repetitive tasks while programming. Note that many data science users are more familiar with R than python, although this is changing, due to the historically greater support for datascience using R than python. However, a big difference between R and python is that python requires the use of loops much more often than R does. In fact, R users will be familiar with the edict to 'never use loops' that those of the tidyverse repeat very often. "
   ]
  },
  {
   "cell_type": "code",
   "execution_count": 1,
   "metadata": {},
   "outputs": [
    {
     "name": "stdout",
     "output_type": "stream",
     "text": [
      "i = 0\n",
      "i = 1\n",
      "i = 2\n",
      "i = 3\n",
      "i = 4\n",
      "i = 5\n",
      "i = 6\n",
      "i = 7\n",
      "i = 8\n",
      "i = 9\n",
      "j = 0\n",
      "j = 1\n",
      "j = 2\n",
      "j = 3\n",
      "j = 4\n",
      "j = 5\n",
      "j = 6\n",
      "j = 7\n",
      "j = 8\n",
      "j = 9\n"
     ]
    }
   ],
   "source": [
    "# for\n",
    "for i in range(10):\n",
    "    print(\"i = \" + str(i))\n",
    "    \n",
    "# while\n",
    "j = 0\n",
    "while j < 10:\n",
    "    print(\"j = \" + str(j))\n",
    "    j+=1"
   ]
  },
  {
   "cell_type": "markdown",
   "metadata": {},
   "source": [
    "# 9. Break and Continue Looping\n",
    "\n",
    "Both break and continue are used to modify the behavior of a loop. If there is a scenario in which we may want a loop to stop evaluating, we can invlude a break statement to stop the loop or code. For example, if a condition is met or some kind of error occurs, we may break. Continue allows the code to skip the rest of the iteration within a loop to skip excess code, perhaps for efficiency purposes. "
   ]
  },
  {
   "cell_type": "code",
   "execution_count": 2,
   "metadata": {},
   "outputs": [
    {
     "name": "stdout",
     "output_type": "stream",
     "text": [
      "Found 8 multiples of 7\n",
      "[7, 14, 21, 28, 35, 42, 49, 56]\n"
     ]
    }
   ],
   "source": [
    "# Break\n",
    "# finds the first 8 multiples of 7 between 1 and 100\n",
    "l = []\n",
    "multiple_of = 7\n",
    "ct = 8\n",
    "for i in range(1,100):\n",
    "    if i % multiple_of == 0:\n",
    "        l.append(i)\n",
    "    if len(l) == ct:\n",
    "        print(\"Found \" + str(ct) + \" multiples of \" + str(multiple_of))\n",
    "        print(l)\n",
    "        break"
   ]
  },
  {
   "cell_type": "code",
   "execution_count": 3,
   "metadata": {},
   "outputs": [
    {
     "name": "stdout",
     "output_type": "stream",
     "text": [
      "[1, 3, 5, 7, 9, 11, 13, 15, 17, 19, 21, 23, 25, 27, 29, 31, 33, 35, 37, 39, 41, 43, 45, 47, 49, 51, 53, 55, 57, 59, 61, 63, 65, 67, 69, 71, 73, 75, 77, 79, 81, 83, 85, 87, 89, 91, 93, 95, 97, 99]\n"
     ]
    }
   ],
   "source": [
    "# Continue\n",
    "# create a list of numbers not divisible by 2 (odd)\n",
    "l = []\n",
    "not_div_by = 2\n",
    "for i in range(1,100):\n",
    "    if i % not_div_by == 0:\n",
    "        # skip this number if divisible\n",
    "        continue\n",
    "    l.append(i)\n",
    "print(l)"
   ]
  },
  {
   "cell_type": "markdown",
   "metadata": {},
   "source": [
    "# 10. Function Definition\n",
    "\n",
    "It is often necessary to define one's own functions when there is not an obvious package or module that already accomplishes a task, or when we need to better automate some block of code for a repetitive task. One additional feature of a function definition is that there is the option to have named or keyword arguments instead of positional arguments, the default. It is possible to have both positional and keyboard arguments. We can also have default argument values. "
   ]
  },
  {
   "cell_type": "code",
   "execution_count": 7,
   "metadata": {},
   "outputs": [
    {
     "name": "stdout",
     "output_type": "stream",
     "text": [
      "['BPF', 'LOG4', 'NV_MAGICCONST', 'RECIP_BPF', 'Random', 'SG_MAGICCONST', 'SystemRandom', 'TWOPI', '_BuiltinMethodType', '_MethodType', '_Sequence', '_Set', '__all__', '__builtins__', '__cached__', '__doc__', '__file__', '__loader__', '__name__', '__package__', '__spec__', '_acos', '_bisect', '_ceil', '_cos', '_e', '_exp', '_inst', '_itertools', '_log', '_os', '_pi', '_random', '_sha512', '_sin', '_sqrt', '_test', '_test_generator', '_urandom', '_warn', 'betavariate', 'choice', 'choices', 'expovariate', 'gammavariate', 'gauss', 'getrandbits', 'getstate', 'lognormvariate', 'normalvariate', 'paretovariate', 'randint', 'random', 'randrange', 'sample', 'seed', 'setstate', 'shuffle', 'triangular', 'uniform', 'vonmisesvariate', 'weibullvariate']\n",
      "\n",
      "\n",
      "[0.24805129418088756, 0.9664200209323971, 0.9857536727186316, 0.46935790229977314, 0.34329530518756757, 0.6633125826812781, 0.0044796191757727755, 0.1100047594480269, 0.8200020618796995, 0.11573823882030998]\n"
     ]
    }
   ],
   "source": [
    "import random\n",
    "\n",
    "print(dir(random))\n",
    "\n",
    "def random_number_func(n):\n",
    "    rand_nums_list = []\n",
    "    for i in range(n):\n",
    "        rand_nums_list.append(random.random())\n",
    "    return rand_nums_list\n",
    "\n",
    "print(\"\\n\")\n",
    "print(random_number_func(10))"
   ]
  },
  {
   "cell_type": "code",
   "execution_count": 12,
   "metadata": {},
   "outputs": [
    {
     "name": "stdout",
     "output_type": "stream",
     "text": [
      "x = [-1.5, 2.5]\n",
      "y = [2.0, 1.0]\n",
      "z = [-1.5, 2.5]\n"
     ]
    }
   ],
   "source": [
    "from math import sqrt\n",
    "\n",
    "# here we have a function with 3 named arguments; a,b,c\n",
    "# we can either use positions (which are fickle), or we\n",
    "# can use the argument names\n",
    "\n",
    "def quadratic(a, b, c):\n",
    "    x1 = -b / (2*a)\n",
    "    x2 = sqrt(b**2 - 4*a*c) / (2*a)\n",
    "    x = [x1,x2]\n",
    "    return(x)\n",
    "\n",
    "# positions\n",
    "x = quadratic(1,3,-4)\n",
    "print('x = ' + str(x))\n",
    "\n",
    "# positions are changed, we get different results\n",
    "y = quadratic(1,-4,3)\n",
    "print('y = ' + str(y))\n",
    "\n",
    "# positions are changed, but we used the names and so we \n",
    "# get the same results that we got when we used the first\n",
    "# set of positions\n",
    "z = quadratic(a = 1, c = -4, b = 3)\n",
    "print('z = ' + str(z))"
   ]
  },
  {
   "cell_type": "code",
   "execution_count": 13,
   "metadata": {},
   "outputs": [
    {
     "data": {
      "text/plain": [
       "[-1.5, 1.5]"
      ]
     },
     "execution_count": 13,
     "metadata": {},
     "output_type": "execute_result"
    }
   ],
   "source": [
    "# here we show that we can have a default value for \n",
    "# arguments to our function\n",
    "from math import sqrt\n",
    "def quadratic2(a,b,c=0):\n",
    "    x1 = -b / (2*a)\n",
    "    x2 = sqrt(b**2 - 4*a*c) / (2*a)\n",
    "    x = [x1,x2]\n",
    "    return x\n",
    "\n",
    "quadratic2(1,3)"
   ]
  },
  {
   "cell_type": "markdown",
   "metadata": {},
   "source": [
    "# 11. Variable Argument Length\n",
    "\n",
    "Some functions need to handle different numbers of arguments in different situations. Most functions that people write in their data science processes or as beginner programmers have clearly defined arguments or inputs, such as a function that will always intake two datasets and will merge these two datasets. We might want a function that can handle merging any number of datasets . such as three or four."
   ]
  },
  {
   "cell_type": "code",
   "execution_count": 17,
   "metadata": {},
   "outputs": [
    {
     "name": "stdout",
     "output_type": "stream",
     "text": [
      "5\n",
      "2\n",
      "0\n"
     ]
    }
   ],
   "source": [
    "# here we have a function that can add any arbitrary\n",
    "# number of numberse and will return the sum. \n",
    "def myManyAdd(*args):\n",
    "    temp = 0\n",
    "    for arg in args:\n",
    "        temp += arg\n",
    "    return temp\n",
    "\n",
    "# here we are adding five 1s, which will give us an answer of 5\n",
    "add_nums = myManyAdd(1,1,1,1,1)\n",
    "print(add_nums)\n",
    "\n",
    "# here we are adding two 1s, which will give us an answer of 2\n",
    "add_nums2 = myManyAdd(1,1)\n",
    "print(add_nums2)\n",
    "\n",
    "# here we are adding no numbers, which is a behavior that we need \n",
    "# to define ourselves since it is our own function. We might \n",
    "# expect a reasonable answer to be 0 or null, but here we are \n",
    "# choosing to provide 0 for the sum of no numbers\n",
    "add_nums3 = myManyAdd()\n",
    "print(add_nums3)"
   ]
  },
  {
   "cell_type": "markdown",
   "metadata": {},
   "source": [
    "# 12. Pass Statement\n",
    "\n",
    "Pass is a placeholder that does nothing. This is useful while developing code. "
   ]
  },
  {
   "cell_type": "code",
   "execution_count": 18,
   "metadata": {},
   "outputs": [],
   "source": [
    "def foo():\n",
    "    pass\n",
    "\n",
    "class student(object):\n",
    "    pass\n",
    "\n",
    "# runs forever\n",
    "# if uncommented, must interrupt kernel\n",
    "\n",
    "# while(True):\n",
    "#     pass"
   ]
  },
  {
   "cell_type": "markdown",
   "metadata": {},
   "source": [
    "# 13. Global Functions\n",
    "\n",
    "There are some functions that are implemented for most classes, and these are expected by python users when they interact with a class, even the ones that we create. "
   ]
  },
  {
   "cell_type": "code",
   "execution_count": 19,
   "metadata": {},
   "outputs": [
    {
     "name": "stdout",
     "output_type": "stream",
     "text": [
      "['__doc__', '__file__', '__loader__', '__name__', '__package__', '__spec__', 'acos', 'acosh', 'asin', 'asinh', 'atan', 'atan2', 'atanh', 'ceil', 'copysign', 'cos', 'cosh', 'degrees', 'e', 'erf', 'erfc', 'exp', 'expm1', 'fabs', 'factorial', 'floor', 'fmod', 'frexp', 'fsum', 'gamma', 'gcd', 'hypot', 'inf', 'isclose', 'isfinite', 'isinf', 'isnan', 'ldexp', 'lgamma', 'log', 'log10', 'log1p', 'log2', 'modf', 'nan', 'pi', 'pow', 'radians', 'remainder', 'sin', 'sinh', 'sqrt', 'tan', 'tanh', 'tau', 'trunc']\n"
     ]
    }
   ],
   "source": [
    "# shows the underlying attributes of an object \n",
    "# print, str, dir are all examples\n",
    "import math\n",
    "print(str(dir(math)))"
   ]
  },
  {
   "cell_type": "code",
   "execution_count": 20,
   "metadata": {},
   "outputs": [
    {
     "data": {
      "text/plain": [
       "\"['__name__', '__doc__', '__package__', '__loader__', '__spec__', 'acos', 'acosh', 'asin', 'asinh', 'atan', 'atan2', 'atanh', 'ceil', 'copysign', 'cos', 'cosh', 'degrees', 'erf', 'erfc', 'exp', 'expm1', 'fabs', 'factorial', 'floor', 'fmod', 'frexp', 'fsum', 'gamma', 'gcd', 'hypot', 'isclose', 'isfinite', 'isinf', 'isnan', 'ldexp', 'lgamma', 'log', 'log1p', 'log10', 'log2', 'modf', 'pow', 'radians', 'remainder', 'sin', 'sinh', 'sqrt', 'tan', 'tanh', 'trunc', 'pi', 'e', 'tau', 'inf', 'nan', '__file__']\""
      ]
     },
     "execution_count": 20,
     "metadata": {},
     "output_type": "execute_result"
    }
   ],
   "source": [
    "# global functions are looking up the corresponding \n",
    "# implementation in the object defintion\n",
    "math.__dir__().__str__()"
   ]
  },
  {
   "cell_type": "markdown",
   "metadata": {},
   "source": [
    "# 14. List Comprehension \n",
    "\n",
    "List comprehension is another example of shorter-form python writing that helps the user avoid writing the full code infrastructure that is required to create a list with other methods.  "
   ]
  },
  {
   "cell_type": "code",
   "execution_count": 21,
   "metadata": {},
   "outputs": [
    {
     "name": "stdout",
     "output_type": "stream",
     "text": [
      "[1, 2, 3, 4, 5, 6, 7, 8, 9, 10]\n",
      "[1, 2, 3, 4, 5, 6, 7, 8, 9, 10]\n"
     ]
    }
   ],
   "source": [
    "# traditional method\n",
    "testList = []\n",
    "for i in range(10):\n",
    "    testList.append(i+1)\n",
    "    \n",
    "print(testList)\n",
    "\n",
    "# list comprehension method\n",
    "myList = [i+1 for i in range(10)]\n",
    "print(myList)"
   ]
  },
  {
   "cell_type": "markdown",
   "metadata": {},
   "source": [
    "# 15. Iterator and Generator Expressions\n",
    "\n",
    "Iterators are a class in python where there is some defined way that the code proceeds through a set of items. The most common usage of an iterator in in the `for` loop. Generators are similar to iterators, and the main thing to take away is that by using a generator we get some python object that can be used to iterate over to do things. It is also possible to use a short-hand to create these objects, which is what the \"generator expression\" term refers to. Some content below is inspired by https://anandology.com/python-practice-book/iterators.html."
   ]
  },
  {
   "cell_type": "code",
   "execution_count": 2,
   "metadata": {},
   "outputs": [
    {
     "name": "stdout",
     "output_type": "stream",
     "text": [
      "<__main__.yrange object at 0x7f1f98b05470>\n"
     ]
    },
    {
     "ename": "AttributeError",
     "evalue": "'yrange' object has no attribute 'next'",
     "output_type": "error",
     "traceback": [
      "\u001b[0;31m---------------------------------------------------------------------------\u001b[0m",
      "\u001b[0;31mAttributeError\u001b[0m                            Traceback (most recent call last)",
      "\u001b[0;32m<ipython-input-2-3d1b188d4b64>\u001b[0m in \u001b[0;36m<module>\u001b[0;34m()\u001b[0m\n\u001b[1;32m     17\u001b[0m \u001b[0;34m\u001b[0m\u001b[0m\n\u001b[1;32m     18\u001b[0m \u001b[0;31m# here we begin to iterate over the items in y\u001b[0m\u001b[0;34m\u001b[0m\u001b[0;34m\u001b[0m\u001b[0;34m\u001b[0m\u001b[0m\n\u001b[0;32m---> 19\u001b[0;31m \u001b[0my\u001b[0m\u001b[0;34m.\u001b[0m\u001b[0mnext\u001b[0m\u001b[0;34m(\u001b[0m\u001b[0;34m)\u001b[0m\u001b[0;34m\u001b[0m\u001b[0;34m\u001b[0m\u001b[0m\n\u001b[0m",
      "\u001b[0;31mAttributeError\u001b[0m: 'yrange' object has no attribute 'next'"
     ]
    }
   ],
   "source": [
    "# here we have a generator\n",
    "class yrange:\n",
    "    def __init__(self, n):\n",
    "        self.i = 0\n",
    "        self.n = n\n",
    "        \n",
    "    def __iter__(self):\n",
    "        if self.i < self.n:\n",
    "            i = self.i\n",
    "            self.i += 1\n",
    "            return i\n",
    "        else:\n",
    "            raise StopIteration()\n",
    "\n",
    "y = yrange(3)\n",
    "print(y)\n",
    "\n",
    "# here we begin to iterate over the items in y\n",
    "# y.next()"
   ]
  },
  {
   "cell_type": "markdown",
   "metadata": {},
   "source": [
    "# 16. Multiple Set Iteration\n",
    "\n",
    "It is often necessary to loop over multiple things at once, such as if we need to loop over combinations of variables or numbers. We use the zip function to produce the combinations of different lists.   "
   ]
  },
  {
   "cell_type": "code",
   "execution_count": 3,
   "metadata": {},
   "outputs": [
    {
     "name": "stdout",
     "output_type": "stream",
     "text": [
      "1 4\n",
      "2 5\n",
      "3 6\n",
      "b 7\n",
      "zip(iter1 [,iter2 [...]]) --> zip object\n",
      "\n",
      "Return a zip object whose .__next__() method returns a tuple where\n",
      "the i-th element comes from the i-th iterable argument.  The .__next__()\n",
      "method continues until the shortest iterable in the argument sequence\n",
      "is exhausted and then it raises StopIteration.\n"
     ]
    }
   ],
   "source": [
    "foo = (1, 2, 3, 'b')\n",
    "bar = (4, 5, 6, 7)\n",
    "\n",
    "for f, b in zip(foo, bar):\n",
    "    print(f,b)\n",
    "    \n",
    "print(zip.__doc__)"
   ]
  },
  {
   "cell_type": "markdown",
   "metadata": {},
   "source": [
    "# 17. List Unpacking\n",
    "\n",
    "If you have a bunch of objects in a list and you want to get those objects themselves, and not the list of them, then you might want to unpack the list. If you have some function that has a bunch of required arguments and you have a list that contains a set of values that you want to input to the function, you might have a mismatch. For example, if the function is meant to accept a few integers but you have a list of integers, you can't pass the list to the function because it isnt written to accept a list input. However, it is possible to unpack the list of integers to get the integers themselves and then pass those to the function. "
   ]
  },
  {
   "cell_type": "code",
   "execution_count": 4,
   "metadata": {},
   "outputs": [
    {
     "name": "stdout",
     "output_type": "stream",
     "text": [
      "6\n"
     ]
    }
   ],
   "source": [
    "# define a function that multiplies three numbers\n",
    "def threeMultiply(num1, num2, num3):\n",
    "    ret = num1 + num2 + num3\n",
    "    return(ret)\n",
    "\n",
    "print(threeMultiply(1,2,3))"
   ]
  },
  {
   "cell_type": "code",
   "execution_count": 5,
   "metadata": {},
   "outputs": [
    {
     "ename": "TypeError",
     "evalue": "threeMultiply() missing 2 required positional arguments: 'num2' and 'num3'",
     "output_type": "error",
     "traceback": [
      "\u001b[0;31m---------------------------------------------------------------------------\u001b[0m",
      "\u001b[0;31mTypeError\u001b[0m                                 Traceback (most recent call last)",
      "\u001b[0;32m<ipython-input-5-9a0b10eb67b3>\u001b[0m in \u001b[0;36m<module>\u001b[0;34m()\u001b[0m\n\u001b[1;32m      6\u001b[0m \u001b[0mnums\u001b[0m \u001b[0;34m=\u001b[0m \u001b[0;34m[\u001b[0m\u001b[0;36m1\u001b[0m\u001b[0;34m,\u001b[0m\u001b[0;36m2\u001b[0m\u001b[0;34m,\u001b[0m\u001b[0;36m3\u001b[0m\u001b[0;34m]\u001b[0m\u001b[0;34m\u001b[0m\u001b[0;34m\u001b[0m\u001b[0m\n\u001b[1;32m      7\u001b[0m \u001b[0;34m\u001b[0m\u001b[0m\n\u001b[0;32m----> 8\u001b[0;31m \u001b[0mprint\u001b[0m\u001b[0;34m(\u001b[0m\u001b[0mthreeMultiply\u001b[0m\u001b[0;34m(\u001b[0m\u001b[0mnums\u001b[0m\u001b[0;34m)\u001b[0m\u001b[0;34m)\u001b[0m\u001b[0;34m\u001b[0m\u001b[0;34m\u001b[0m\u001b[0m\n\u001b[0m",
      "\u001b[0;31mTypeError\u001b[0m: threeMultiply() missing 2 required positional arguments: 'num2' and 'num3'"
     ]
    }
   ],
   "source": [
    "# here we have a list of three numbers. If we pass \n",
    "# this as the argum,ent to the function threeMultiply \n",
    "# it will not work because does not accept a list as \n",
    "# an input. \n",
    "\n",
    "nums = [1,2,3]\n",
    "\n",
    "print(threeMultiply(nums))"
   ]
  },
  {
   "cell_type": "code",
   "execution_count": 6,
   "metadata": {},
   "outputs": [
    {
     "name": "stdout",
     "output_type": "stream",
     "text": [
      "6\n",
      "1 2 3\n"
     ]
    }
   ],
   "source": [
    "# here we again have the list. However, if we unpack, \n",
    "# then we get the integers rather than the list itself. \n",
    "print(threeMultiply(*nums))\n",
    "\n",
    "print(*nums)"
   ]
  },
  {
   "cell_type": "markdown",
   "metadata": {},
   "source": [
    "# 18. Operator Overloading\n",
    "\n",
    "The following several cells show us operator overloading. This is a feature that allows us to use the same symbol to represent different versioins of the same conceptual operation for different situations or objects. For example, the notion of `+` exists in many settings, but these notions are not identical to each other. For numbers we have numerical addition, but for characters we have string concatenation."
   ]
  },
  {
   "cell_type": "code",
   "execution_count": 7,
   "metadata": {},
   "outputs": [
    {
     "ename": "TypeError",
     "evalue": "unsupported operand type(s) for +: 'testClass' and 'testClass'",
     "output_type": "error",
     "traceback": [
      "\u001b[0;31m---------------------------------------------------------------------------\u001b[0m",
      "\u001b[0;31mTypeError\u001b[0m                                 Traceback (most recent call last)",
      "\u001b[0;32m<ipython-input-7-7b60cb95b57d>\u001b[0m in \u001b[0;36m<module>\u001b[0;34m()\u001b[0m\n\u001b[1;32m      7\u001b[0m \u001b[0mn2\u001b[0m \u001b[0;34m=\u001b[0m \u001b[0mtestClass\u001b[0m\u001b[0;34m(\u001b[0m\u001b[0;36m11\u001b[0m\u001b[0;34m)\u001b[0m\u001b[0;34m\u001b[0m\u001b[0;34m\u001b[0m\u001b[0m\n\u001b[1;32m      8\u001b[0m \u001b[0;34m\u001b[0m\u001b[0m\n\u001b[0;32m----> 9\u001b[0;31m \u001b[0mprint\u001b[0m\u001b[0;34m(\u001b[0m\u001b[0mn1\u001b[0m \u001b[0;34m+\u001b[0m \u001b[0mn2\u001b[0m\u001b[0;34m)\u001b[0m\u001b[0;34m\u001b[0m\u001b[0;34m\u001b[0m\u001b[0m\n\u001b[0m",
      "\u001b[0;31mTypeError\u001b[0m: unsupported operand type(s) for +: 'testClass' and 'testClass'"
     ]
    }
   ],
   "source": [
    "# Here we define a new class that is basically just a number\n",
    "class testClass:\n",
    "    def __init__(self, value):\n",
    "        self.value = value\n",
    "        \n",
    "n1 = testClass(10)\n",
    "n2 = testClass(11)\n",
    "\n",
    "print(n1 + n2)"
   ]
  },
  {
   "cell_type": "code",
   "execution_count": 8,
   "metadata": {},
   "outputs": [
    {
     "name": "stdout",
     "output_type": "stream",
     "text": [
      "11\n"
     ]
    }
   ],
   "source": [
    "# we did not define addition for our number-like \n",
    "# class, so we get an error. We can define a notion\n",
    "# of addition for this classs, and we do not get\n",
    "# the same error. \n",
    "class myClass:\n",
    "    def __init__(self, value):\n",
    "        self.value = value\n",
    "    \n",
    "    def __add__(self, other):\n",
    "        return (self.value + other.value)\n",
    "    \n",
    "n1 = myClass(5)\n",
    "n2 = myClass(6)\n",
    "print(n1 + n2)"
   ]
  },
  {
   "cell_type": "code",
   "execution_count": 9,
   "metadata": {},
   "outputs": [
    {
     "name": "stdout",
     "output_type": "stream",
     "text": [
      "0.8333333333333334\n"
     ]
    }
   ],
   "source": [
    "# we can define the notion of 'addition' in any way that\n",
    "# we want to. For example, while perhaps it is less intuitive\n",
    "# here we define addition to behave like division for this\n",
    "# number-like class.\n",
    "\n",
    "class myClass2:\n",
    "    def __init__(self, value):\n",
    "        self.value = value\n",
    "\n",
    "    def __add__(self, other):\n",
    "        return (self.value / other.value)\n",
    "    \n",
    "n1 = myClass2(5)\n",
    "n2 = myClass2(6)\n",
    "print(n1 + n2)"
   ]
  },
  {
   "cell_type": "markdown",
   "metadata": {},
   "source": [
    "# 19. Functionals and Higher Order Functions\n",
    "\n",
    "A higher order function is one that takes as one of its arguments another input function. In other words, it can be a blueprint where a certain piece or certain pieces of the code of the higher order function are allowed to vary as the input function varies. Note that this is an example of highly modularized code design. Example largely taken from http://composingprograms.com/pages/16-higher-order-functions.html"
   ]
  },
  {
   "cell_type": "code",
   "execution_count": 10,
   "metadata": {},
   "outputs": [
    {
     "name": "stdout",
     "output_type": "stream",
     "text": [
      "5050\n",
      "25502500\n",
      "3.1365926848388144\n"
     ]
    }
   ],
   "source": [
    "# A function that has a piece that changes depending on the\n",
    "# inputted function term.\n",
    "def summation(n, term):\n",
    "    total, k = 0,1\n",
    "    while k <= n:\n",
    "        total, k = total + term(k), k + 1\n",
    "    return total\n",
    "\n",
    "# function that returns the input\n",
    "def identity(x):\n",
    "    return x\n",
    "\n",
    "# function returns the cube of the input\n",
    "def cube(x):\n",
    "    return x**3\n",
    "\n",
    "# function that returns the term that is in a classic\n",
    "# series that approximates pi\n",
    "def pi_term(x):\n",
    "    return 8 / ((4*x-3) * (4*x-1))\n",
    "\n",
    "# here is the fuinction where we use the higher\n",
    "# order function with its input to get an answer\n",
    "def sum_naturals(n):\n",
    "    return summation(n, identity)\n",
    "\n",
    "def sum_cubes(n):\n",
    "    return summation(n, cube)\n",
    "\n",
    "def pi_sum(n):\n",
    "    return summation(n, pi_term)\n",
    "\n",
    "x = sum_naturals(100)\n",
    "print(x)\n",
    "\n",
    "y = sum_cubes(100)\n",
    "print(y)\n",
    "\n",
    "z = pi_sum(100)\n",
    "print(z)"
   ]
  },
  {
   "cell_type": "markdown",
   "metadata": {},
   "source": [
    "# 20. Anonymous Lambda Function\n",
    "\n",
    "Sometimes we do not need or want to write out all the code infrastructure that comes along with formally defining a function aand applying it to some situation. Lambdas allow us to define a function a function without assigning it to some name. If we want to use the function once, we don't need to define the function in our namespace. This structure is referred to as an anonymous function. "
   ]
  },
  {
   "cell_type": "code",
   "execution_count": 13,
   "metadata": {},
   "outputs": [
    {
     "name": "stdout",
     "output_type": "stream",
     "text": [
      "6\n"
     ]
    }
   ],
   "source": [
    "# Here we have a function that we defined that multiples two\n",
    "# numbers. This is what is meant by the \"code infrastructure\"\n",
    "# of formally defining a function. As can be seen, there are\n",
    "# several lines of code here to do something simple. \n",
    "def multiply(x,y):\n",
    "    return x*y\n",
    "\n",
    "answer = multiply(2,3)\n",
    "print(answer)"
   ]
  },
  {
   "cell_type": "code",
   "execution_count": 15,
   "metadata": {},
   "outputs": [
    {
     "name": "stdout",
     "output_type": "stream",
     "text": [
      "6\n"
     ]
    }
   ],
   "source": [
    "# Alternatively we can use a lambda function that is shorter\n",
    "multiply = lambda x, y : x*y\n",
    "\n",
    "answer = multiply(2,3)\n",
    "print(answer)"
   ]
  },
  {
   "cell_type": "code",
   "execution_count": 16,
   "metadata": {},
   "outputs": [
    {
     "name": "stdout",
     "output_type": "stream",
     "text": [
      "[2, 4, 6, 8]\n"
     ]
    }
   ],
   "source": [
    "# here we show the use of a formal function that is applied to a list\n",
    "# or objects, and since this is a more complicated action we see that\n",
    "# there are more lines that are required\n",
    "def multiply2(x):\n",
    "    return x*2\n",
    "\n",
    "test = map(multiply2, [1,2,3,4])\n",
    "answer = list(test)\n",
    "print(answer)"
   ]
  },
  {
   "cell_type": "code",
   "execution_count": 17,
   "metadata": {},
   "outputs": [
    {
     "name": "stdout",
     "output_type": "stream",
     "text": [
      "[2, 4, 6, 8]\n"
     ]
    }
   ],
   "source": [
    "# contrast the previous code block to this one and it can be\n",
    "# seen that the use of the lambda function noticeably shortens\n",
    "# the code block and gives the same result. \n",
    "test2 = map(lambda x : x*2, [1,2,3,4])\n",
    "\n",
    "answer = list(test2)\n",
    "print(answer)"
   ]
  },
  {
   "cell_type": "markdown",
   "metadata": {},
   "source": [
    "# 21. Decorators\n",
    "\n",
    "Decorators are syntactic sugar that allow us to create higher order functions in shorthand. The decorator modifies the function and keeps the name of the modified function constant. "
   ]
  },
  {
   "cell_type": "code",
   "execution_count": 20,
   "metadata": {},
   "outputs": [
    {
     "name": "stdout",
     "output_type": "stream",
     "text": [
      "Hello World!\n",
      "Hello World!\n"
     ]
    }
   ],
   "source": [
    "# the full written-out infrastructure\n",
    "# write a function that takes as input a\n",
    "# function and changes the behavior\n",
    "def do_twice(func):\n",
    "    def wrapper_do_twice():\n",
    "        func()\n",
    "        func()\n",
    "    return wrapper_do_twice\n",
    "\n",
    "# here is a function\n",
    "def helloWorld():\n",
    "    print(\"Hello World!\")\n",
    "    \n",
    "# here we are modifying the inputted function\n",
    "helloWorld = do_twice(helloWorld)\n",
    "\n",
    "helloWorld()"
   ]
  },
  {
   "cell_type": "code",
   "execution_count": 21,
   "metadata": {},
   "outputs": [
    {
     "name": "stdout",
     "output_type": "stream",
     "text": [
      "Hello World!\n",
      "Hello World!\n"
     ]
    }
   ],
   "source": [
    "# here we are modifying the function in the same way as\n",
    "# above but with much less typing\n",
    "@do_twice\n",
    "def helloWorld():\n",
    "    print('Hello World!')\n",
    "    \n",
    "helloWorld()"
   ]
  }
 ],
 "metadata": {
  "kernelspec": {
   "display_name": "Python 3",
   "language": "python",
   "name": "python3"
  },
  "language_info": {
   "codemirror_mode": {
    "name": "ipython",
    "version": 3
   },
   "file_extension": ".py",
   "mimetype": "text/x-python",
   "name": "python",
   "nbconvert_exporter": "python",
   "pygments_lexer": "ipython3",
   "version": "3.7.1"
  }
 },
 "nbformat": 4,
 "nbformat_minor": 2
}
