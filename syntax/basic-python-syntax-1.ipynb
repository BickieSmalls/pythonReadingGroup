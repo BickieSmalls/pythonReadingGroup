{
 "cells": [
  {
   "cell_type": "markdown",
   "metadata": {},
   "source": [
    "<a name=\"top\"></a>\n",
    "# Basic Python Guide 1\n",
    "\n",
    "### Nathan Bick\n",
    "\n",
    "Here we have a variety of python concepts ranging from the most beginner to slightly more advanced. Each has a short explanation as well as a code sample. "
   ]
  },
  {
   "cell_type": "code",
   "execution_count": null,
   "metadata": {},
   "outputs": [],
   "source": [
    "%reset"
   ]
  },
  {
   "cell_type": "markdown",
   "metadata": {},
   "source": [
    "# Table of Contents\n",
    "\n",
    "1. [ Variable Declaration ](#vardec)\n",
    "2. [ Namespaces ](#namespaces)\n",
    "3. [ Math Operations ](#mathops)"
   ]
  },
  {
   "cell_type": "markdown",
   "metadata": {},
   "source": [
    "<a name=\"vardec\"></a>\n",
    "# 1. Variable Declaration\n",
    "\n",
    "Here we show how to declare some of the most basic underlying types of variabels in python."
   ]
  },
  {
   "cell_type": "code",
   "execution_count": 17,
   "metadata": {},
   "outputs": [
    {
     "name": "stdout",
     "output_type": "stream",
     "text": [
      "1\n",
      "1.0\n",
      "2.0\n",
      "hello\n",
      "world\n",
      "hello world\n"
     ]
    }
   ],
   "source": [
    "# int\n",
    "numInteger = 1\n",
    "print(numInteger)\n",
    "\n",
    "# float\n",
    "numFloat = 1.0\n",
    "print(numFloat)\n",
    "\n",
    "# add the above, get a float (type coercion)\n",
    "num = numInteger + numFloat\n",
    "print(num)\n",
    "\n",
    "# string\n",
    "myString1 = 'hello'\n",
    "print(myString1)\n",
    "\n",
    "myString2 = 'world'\n",
    "print(myString2)\n",
    "\n",
    "print(myString1 + \" \" + myString2)"
   ]
  },
  {
   "cell_type": "markdown",
   "metadata": {},
   "source": [
    "<a name=\"namespaces\"></a>\n",
    "# 2. Namespaces\n",
    "\n",
    "Namespaces in python is closely related to the concept of \"variable scoping\". In a python environment, ther are different levels of collections of objects. These levels determine which objects are visible or accessible in the environment at what time. Often these levels, called namespaces, are created as we write functions and define variables within those functions. For example, the broadest namespace is the Global namespace, and variables defined in this namespace are viewable to all namespaces. If we define a function, we then create a new smaller namespace and within that namespace those variables are only viewable if we are \"in\" that namespace. "
   ]
  },
  {
   "cell_type": "code",
   "execution_count": 18,
   "metadata": {},
   "outputs": [
    {
     "name": "stdout",
     "output_type": "stream",
     "text": [
      "1\n",
      "2\n"
     ]
    }
   ],
   "source": [
    "# here we are in the global namespace\n",
    "var = 1\n",
    "\n",
    "# here we are creating a smaller namespace that is only inmside the function\n",
    "def print_var():\n",
    "    var = 2\n",
    "    print(var)\n",
    "    \n",
    "# we are accessing var in the global namespace\n",
    "print(var)\n",
    "\n",
    "# we are accessing var in the lcoal namespace\n",
    "print_var()"
   ]
  },
  {
   "cell_type": "code",
   "execution_count": 19,
   "metadata": {},
   "outputs": [
    {
     "name": "stdout",
     "output_type": "stream",
     "text": [
      "apple\n"
     ]
    }
   ],
   "source": [
    "# If a variable is not defined within the function, python \n",
    "# will look in the outer scope\n",
    "a = 'apple'\n",
    "\n",
    "def foo():\n",
    "    print(a)\n",
    "    \n",
    "foo()"
   ]
  },
  {
   "cell_type": "code",
   "execution_count": 20,
   "metadata": {},
   "outputs": [
    {
     "name": "stdout",
     "output_type": "stream",
     "text": [
      "apple\n",
      "banana\n"
     ]
    }
   ],
   "source": [
    "# Sometimes you have multiple namespaces nested in one another. \n",
    "# Specify the nect level out with \"nonLocal\" and the global\n",
    "# namespace with 'global'\n",
    "a = 'apple'\n",
    "\n",
    "def foo1():\n",
    "    a = 'banana'\n",
    "    def bar():\n",
    "        global a\n",
    "        return a\n",
    "    print(bar())\n",
    "     \n",
    "def foo2():\n",
    "    a = 'banana'\n",
    "    def bar():\n",
    "        nonlocal a    \n",
    "        return a\n",
    "    print(bar())\n",
    "    \n",
    "foo1()\n",
    "foo2()"
   ]
  },
  {
   "cell_type": "markdown",
   "metadata": {},
   "source": [
    "<a name=\"mathops\"></a>\n",
    "# 3. Math Operations: Addition, subtraction, multiplcation, division, exponentiation, modulo\n",
    "\n",
    "Many of the basic math operations are included in base python."
   ]
  },
  {
   "cell_type": "code",
   "execution_count": 21,
   "metadata": {},
   "outputs": [
    {
     "name": "stdout",
     "output_type": "stream",
     "text": [
      "3\n",
      "-2.2\n",
      "2.2\n",
      "1.1\n",
      "1.2100000000000002\n",
      "True\n"
     ]
    }
   ],
   "source": [
    "# addition\n",
    "a,b = 1,2\n",
    "c = a + b\n",
    "print(c)\n",
    "\n",
    "# subtraction\n",
    "d = 5.2\n",
    "e = c - d\n",
    "print(e)\n",
    "\n",
    "# multiplication\n",
    "f = -1\n",
    "g = f * e\n",
    "print(g)\n",
    "\n",
    "# division\n",
    "h = g / b\n",
    "print(h)\n",
    "\n",
    "# exponentiation\n",
    "i = h ** 2\n",
    "print(i)\n",
    "\n",
    "# modulo\n",
    "print(4 % 2 == 0) # 4 is divisible by 2"
   ]
  },
  {
   "cell_type": "markdown",
   "metadata": {},
   "source": [
    "# 3. Import other math from math module\n",
    "\n",
    "While the base math operations are included in base python, there are many more operations that are included in the `math` module. The following examples showcase a few of these math operations as well as how to import a module of any kind into python code. "
   ]
  },
  {
   "cell_type": "code",
   "execution_count": 22,
   "metadata": {},
   "outputs": [
    {
     "name": "stdout",
     "output_type": "stream",
     "text": [
      "['__doc__', '__file__', '__loader__', '__name__', '__package__', '__spec__', 'acos', 'acosh', 'asin', 'asinh', 'atan', 'atan2', 'atanh', 'ceil', 'copysign', 'cos', 'cosh', 'degrees', 'e', 'erf', 'erfc', 'exp', 'expm1', 'fabs', 'factorial', 'floor', 'fmod', 'frexp', 'fsum', 'gamma', 'gcd', 'hypot', 'inf', 'isclose', 'isfinite', 'isinf', 'isnan', 'ldexp', 'lgamma', 'log', 'log10', 'log1p', 'log2', 'modf', 'nan', 'pi', 'pow', 'radians', 'remainder', 'sin', 'sinh', 'sqrt', 'tan', 'tanh', 'tau', 'trunc']\n",
      "3.141592653589793\n",
      "22.45915771836104\n"
     ]
    }
   ],
   "source": [
    "import math\n",
    "\n",
    "# detail the math module\n",
    "print(dir(math))\n",
    "\n",
    "# use a few of the math functions\n",
    "myPi = math.pi\n",
    "print(myPi)\n",
    "\n",
    "# pi to the power e\n",
    "print(math.pi ** math.e)"
   ]
  },
  {
   "cell_type": "markdown",
   "metadata": {},
   "source": [
    "# 5. Boolean Expressions\n",
    "\n",
    "Booleans are a type in python that can be valued either TRUE or FALSE. The type is called `bool`. They are not strings, not integers, although `bools` can be coerced to integers 1 and 0. Expressions can be evaluated to TRUE or FALSE and this is useful for controlling the flow of code by testing whether conditions are true or false, for example. "
   ]
  },
  {
   "cell_type": "code",
   "execution_count": 23,
   "metadata": {},
   "outputs": [
    {
     "data": {
      "text/plain": [
       "True"
      ]
     },
     "execution_count": 23,
     "metadata": {},
     "output_type": "execute_result"
    }
   ],
   "source": [
    "# evaluating a condition and returning the result\n",
    "var = 1\n",
    "var == 1"
   ]
  },
  {
   "cell_type": "code",
   "execution_count": 24,
   "metadata": {},
   "outputs": [
    {
     "data": {
      "text/plain": [
       "True"
      ]
     },
     "execution_count": 24,
     "metadata": {},
     "output_type": "execute_result"
    }
   ],
   "source": [
    "# coerece TRUE to int\n",
    "1 == True"
   ]
  },
  {
   "cell_type": "markdown",
   "metadata": {},
   "source": [
    "# 6. If, Else, and Range Statements\n",
    "\n",
    "In python we can combine the previous concept of Boolean expressions to control the flow of code using if/else statements. It is possible to wrap these statements around code and the evaluation of the boolean condition (whether the condition is true or not) determines whether the blocks of code are evaluated."
   ]
  },
  {
   "cell_type": "code",
   "execution_count": 2,
   "metadata": {},
   "outputs": [
    {
     "name": "stdout",
     "output_type": "stream",
     "text": [
      "Saturday\n"
     ]
    }
   ],
   "source": [
    "from datetime import date\n",
    "import calendar\n",
    "my_date = date.today()\n",
    "today = calendar.day_name[my_date.weekday()]\n",
    "print(today)"
   ]
  },
  {
   "cell_type": "code",
   "execution_count": 3,
   "metadata": {},
   "outputs": [
    {
     "name": "stdout",
     "output_type": "stream",
     "text": [
      "Tday is not Tuesday!\n",
      "Today is Saturday.\n"
     ]
    }
   ],
   "source": [
    "if (today == 'Tuesday'):\n",
    "    print('Today is Tuesday!')\n",
    "else:\n",
    "    print('Tday is not Tuesday!\\n' + 'Today is ' + today + \".\")"
   ]
  },
  {
   "cell_type": "markdown",
   "metadata": {},
   "source": [
    "<a href=\"#top\">Back to top</a>"
   ]
  },
  {
   "cell_type": "markdown",
   "metadata": {},
   "source": [
    "# 7. Ternary Expressions\n",
    "\n",
    "Ternary Expressions are a shorthand in python for the type of control flow that is exemplified above using if/else statments. Sometimes we as users want to write a small code chunck without the more formal code infrastructure that is required for long-form code"
   ]
  },
  {
   "cell_type": "code",
   "execution_count": 4,
   "metadata": {},
   "outputs": [
    {
     "name": "stdout",
     "output_type": "stream",
     "text": [
      "Tomorrow is not Wednesday\n"
     ]
    }
   ],
   "source": [
    "tomorrow = 'Wednesday' if today == 'Tuesday' else 'not Wednesday'\n",
    "\n",
    "print('Tomorrow is ' + tomorrow)"
   ]
  },
  {
   "cell_type": "markdown",
   "metadata": {},
   "source": [
    "# 8. For and While Loops\n",
    "\n",
    "Below we have examples of `for` and `while` loops, which are the most basic and important tools for automating repetitive tasks while programming. Note that many data science users are more familiar with R than python, although this is changing, due to the historically greater support for datascience using R than python. However, a big difference between R and python is that python requires the use of loops much more often than R does. In fact, R users will be familiar with the edict to 'never use loops' that those of the tidyverse repeat very often. "
   ]
  },
  {
   "cell_type": "code",
   "execution_count": 1,
   "metadata": {},
   "outputs": [
    {
     "name": "stdout",
     "output_type": "stream",
     "text": [
      "i = 0\n",
      "i = 1\n",
      "i = 2\n",
      "i = 3\n",
      "i = 4\n",
      "i = 5\n",
      "i = 6\n",
      "i = 7\n",
      "i = 8\n",
      "i = 9\n",
      "j = 0\n",
      "j = 1\n",
      "j = 2\n",
      "j = 3\n",
      "j = 4\n",
      "j = 5\n",
      "j = 6\n",
      "j = 7\n",
      "j = 8\n",
      "j = 9\n"
     ]
    }
   ],
   "source": [
    "# for\n",
    "for i in range(10):\n",
    "    print(\"i = \" + str(i))\n",
    "    \n",
    "# while\n",
    "j = 0\n",
    "while j < 10:\n",
    "    print(\"j = \" + str(j))\n",
    "    j+=1"
   ]
  },
  {
   "cell_type": "markdown",
   "metadata": {},
   "source": [
    "# 9. Break and Continue Looping\n",
    "\n",
    "Both break and continue are used to modify the behavior of a loop. If there is a scenario in which we may want a loop to stop evaluating, we can invlude a break statement to stop the loop or code. For example, if a condition is met or some kind of error occurs, we may break. Continue allows the code to skip the rest of the iteration within a loop to skip excess code, perhaps for efficiency purposes. "
   ]
  },
  {
   "cell_type": "code",
   "execution_count": 2,
   "metadata": {},
   "outputs": [
    {
     "name": "stdout",
     "output_type": "stream",
     "text": [
      "Found 8 multiples of 7\n",
      "[7, 14, 21, 28, 35, 42, 49, 56]\n"
     ]
    }
   ],
   "source": [
    "# Break\n",
    "# finds the first 8 multiples of 7 between 1 and 100\n",
    "l = []\n",
    "multiple_of = 7\n",
    "ct = 8\n",
    "for i in range(1,100):\n",
    "    if i % multiple_of == 0:\n",
    "        l.append(i)\n",
    "    if len(l) == ct:\n",
    "        print(\"Found \" + str(ct) + \" multiples of \" + str(multiple_of))\n",
    "        print(l)\n",
    "        break"
   ]
  },
  {
   "cell_type": "code",
   "execution_count": 3,
   "metadata": {},
   "outputs": [
    {
     "name": "stdout",
     "output_type": "stream",
     "text": [
      "[1, 3, 5, 7, 9, 11, 13, 15, 17, 19, 21, 23, 25, 27, 29, 31, 33, 35, 37, 39, 41, 43, 45, 47, 49, 51, 53, 55, 57, 59, 61, 63, 65, 67, 69, 71, 73, 75, 77, 79, 81, 83, 85, 87, 89, 91, 93, 95, 97, 99]\n"
     ]
    }
   ],
   "source": [
    "# Continue\n",
    "# create a list of numbers not divisible by 2 (odd)\n",
    "l = []\n",
    "not_div_by = 2\n",
    "for i in range(1,100):\n",
    "    if i % not_div_by == 0:\n",
    "        # skip this number if divisible\n",
    "        continue\n",
    "    l.append(i)\n",
    "print(l)"
   ]
  },
  {
   "cell_type": "markdown",
   "metadata": {},
   "source": [
    "# 10. Function Definition\n",
    "\n",
    "It is often necessary to define one's own functions when there is not an obvious package or module that already accomplishes a task, or when we need to better automate some block of code for a repetitive task. One additional feature of a function definition is that there is the option to have named or keyword arguments instead of positional arguments, the default. It is possible to have both positional and keyboard arguments. We can also have default argument values. "
   ]
  },
  {
   "cell_type": "code",
   "execution_count": 7,
   "metadata": {},
   "outputs": [
    {
     "name": "stdout",
     "output_type": "stream",
     "text": [
      "['BPF', 'LOG4', 'NV_MAGICCONST', 'RECIP_BPF', 'Random', 'SG_MAGICCONST', 'SystemRandom', 'TWOPI', '_BuiltinMethodType', '_MethodType', '_Sequence', '_Set', '__all__', '__builtins__', '__cached__', '__doc__', '__file__', '__loader__', '__name__', '__package__', '__spec__', '_acos', '_bisect', '_ceil', '_cos', '_e', '_exp', '_inst', '_itertools', '_log', '_os', '_pi', '_random', '_sha512', '_sin', '_sqrt', '_test', '_test_generator', '_urandom', '_warn', 'betavariate', 'choice', 'choices', 'expovariate', 'gammavariate', 'gauss', 'getrandbits', 'getstate', 'lognormvariate', 'normalvariate', 'paretovariate', 'randint', 'random', 'randrange', 'sample', 'seed', 'setstate', 'shuffle', 'triangular', 'uniform', 'vonmisesvariate', 'weibullvariate']\n",
      "\n",
      "\n",
      "[0.24805129418088756, 0.9664200209323971, 0.9857536727186316, 0.46935790229977314, 0.34329530518756757, 0.6633125826812781, 0.0044796191757727755, 0.1100047594480269, 0.8200020618796995, 0.11573823882030998]\n"
     ]
    }
   ],
   "source": [
    "import random\n",
    "\n",
    "print(dir(random))\n",
    "\n",
    "def random_number_func(n):\n",
    "    rand_nums_list = []\n",
    "    for i in range(n):\n",
    "        rand_nums_list.append(random.random())\n",
    "    return rand_nums_list\n",
    "\n",
    "print(\"\\n\")\n",
    "print(random_number_func(10))"
   ]
  },
  {
   "cell_type": "code",
   "execution_count": 12,
   "metadata": {},
   "outputs": [
    {
     "name": "stdout",
     "output_type": "stream",
     "text": [
      "x = [-1.5, 2.5]\n",
      "y = [2.0, 1.0]\n",
      "z = [-1.5, 2.5]\n"
     ]
    }
   ],
   "source": [
    "from math import sqrt\n",
    "\n",
    "# here we have a function with 3 named arguments; a,b,c\n",
    "# we can either use positions (which are fickle), or we\n",
    "# can use the argument names\n",
    "\n",
    "def quadratic(a, b, c):\n",
    "    x1 = -b / (2*a)\n",
    "    x2 = sqrt(b**2 - 4*a*c) / (2*a)\n",
    "    x = [x1,x2]\n",
    "    return(x)\n",
    "\n",
    "# positions\n",
    "x = quadratic(1,3,-4)\n",
    "print('x = ' + str(x))\n",
    "\n",
    "# positions are changed, we get different results\n",
    "y = quadratic(1,-4,3)\n",
    "print('y = ' + str(y))\n",
    "\n",
    "# positions are changed, but we used the names and so we \n",
    "# get the same results that we got when we used the first\n",
    "# set of positions\n",
    "z = quadratic(a = 1, c = -4, b = 3)\n",
    "print('z = ' + str(z))"
   ]
  },
  {
   "cell_type": "code",
   "execution_count": 13,
   "metadata": {},
   "outputs": [
    {
     "data": {
      "text/plain": [
       "[-1.5, 1.5]"
      ]
     },
     "execution_count": 13,
     "metadata": {},
     "output_type": "execute_result"
    }
   ],
   "source": [
    "# here we show that we can have a default value for \n",
    "# arguments to our function\n",
    "from math import sqrt\n",
    "def quadratic2(a,b,c=0):\n",
    "    x1 = -b / (2*a)\n",
    "    x2 = sqrt(b**2 - 4*a*c) / (2*a)\n",
    "    x = [x1,x2]\n",
    "    return x\n",
    "\n",
    "quadratic2(1,3)"
   ]
  },
  {
   "cell_type": "markdown",
   "metadata": {},
   "source": [
    "# 11. Variable Argument Length\n",
    "\n",
    "Some functions need to handle different numbers of arguments in different situations. Most functions that people write in their data science processes or as beginner programmers have clearly defined arguments or inputs, such as a function that will always intake two datasets and will merge these two datasets. We might want a function that can handle merging any number of datasets . such as three or four."
   ]
  },
  {
   "cell_type": "code",
   "execution_count": 17,
   "metadata": {},
   "outputs": [
    {
     "name": "stdout",
     "output_type": "stream",
     "text": [
      "5\n",
      "2\n",
      "0\n"
     ]
    }
   ],
   "source": [
    "# here we have a function that can add any arbitrary\n",
    "# number of numberse and will return the sum. \n",
    "def myManyAdd(*args):\n",
    "    temp = 0\n",
    "    for arg in args:\n",
    "        temp += arg\n",
    "    return temp\n",
    "\n",
    "# here we are adding five 1s, which will give us an answer of 5\n",
    "add_nums = myManyAdd(1,1,1,1,1)\n",
    "print(add_nums)\n",
    "\n",
    "# here we are adding two 1s, which will give us an answer of 2\n",
    "add_nums2 = myManyAdd(1,1)\n",
    "print(add_nums2)\n",
    "\n",
    "# here we are adding no numbers, which is a behavior that we need \n",
    "# to define ourselves since it is our own function. We might \n",
    "# expect a reasonable answer to be 0 or null, but here we are \n",
    "# choosing to provide 0 for the sum of no numbers\n",
    "add_nums3 = myManyAdd()\n",
    "print(add_nums3)"
   ]
  },
  {
   "cell_type": "markdown",
   "metadata": {},
   "source": [
    "# 12. Pass Statement\n",
    "\n",
    "Pass is a placeholder that does nothing. This is useful while developing code. "
   ]
  },
  {
   "cell_type": "code",
   "execution_count": 18,
   "metadata": {},
   "outputs": [],
   "source": [
    "def foo():\n",
    "    pass\n",
    "\n",
    "class student(object):\n",
    "    pass\n",
    "\n",
    "# runs forever\n",
    "# if uncommented, must interrupt kernel\n",
    "\n",
    "# while(True):\n",
    "#     pass"
   ]
  },
  {
   "cell_type": "markdown",
   "metadata": {},
   "source": [
    "# 13. Global Functions\n",
    "\n",
    "There are some functions that are implemented for most classes, and these are expected by python users when they interact with a class, even the ones that we create. "
   ]
  },
  {
   "cell_type": "code",
   "execution_count": 19,
   "metadata": {},
   "outputs": [
    {
     "name": "stdout",
     "output_type": "stream",
     "text": [
      "['__doc__', '__file__', '__loader__', '__name__', '__package__', '__spec__', 'acos', 'acosh', 'asin', 'asinh', 'atan', 'atan2', 'atanh', 'ceil', 'copysign', 'cos', 'cosh', 'degrees', 'e', 'erf', 'erfc', 'exp', 'expm1', 'fabs', 'factorial', 'floor', 'fmod', 'frexp', 'fsum', 'gamma', 'gcd', 'hypot', 'inf', 'isclose', 'isfinite', 'isinf', 'isnan', 'ldexp', 'lgamma', 'log', 'log10', 'log1p', 'log2', 'modf', 'nan', 'pi', 'pow', 'radians', 'remainder', 'sin', 'sinh', 'sqrt', 'tan', 'tanh', 'tau', 'trunc']\n"
     ]
    }
   ],
   "source": [
    "# shows the underlying attributes of an object \n",
    "# print, str, dir are all examples\n",
    "import math\n",
    "print(str(dir(math)))"
   ]
  },
  {
   "cell_type": "code",
   "execution_count": 20,
   "metadata": {},
   "outputs": [
    {
     "data": {
      "text/plain": [
       "\"['__name__', '__doc__', '__package__', '__loader__', '__spec__', 'acos', 'acosh', 'asin', 'asinh', 'atan', 'atan2', 'atanh', 'ceil', 'copysign', 'cos', 'cosh', 'degrees', 'erf', 'erfc', 'exp', 'expm1', 'fabs', 'factorial', 'floor', 'fmod', 'frexp', 'fsum', 'gamma', 'gcd', 'hypot', 'isclose', 'isfinite', 'isinf', 'isnan', 'ldexp', 'lgamma', 'log', 'log1p', 'log10', 'log2', 'modf', 'pow', 'radians', 'remainder', 'sin', 'sinh', 'sqrt', 'tan', 'tanh', 'trunc', 'pi', 'e', 'tau', 'inf', 'nan', '__file__']\""
      ]
     },
     "execution_count": 20,
     "metadata": {},
     "output_type": "execute_result"
    }
   ],
   "source": [
    "# global functions are looking up the corresponding \n",
    "# implementation in the object defintion\n",
    "math.__dir__().__str__()"
   ]
  },
  {
   "cell_type": "markdown",
   "metadata": {},
   "source": [
    "# 14. List Comprehension \n",
    "\n",
    "List comprehension is another example of shorter-form python writing that helps the user avoid writing the full code infrastructure that is required to create a list with other methods.  "
   ]
  },
  {
   "cell_type": "code",
   "execution_count": 21,
   "metadata": {},
   "outputs": [
    {
     "name": "stdout",
     "output_type": "stream",
     "text": [
      "[1, 2, 3, 4, 5, 6, 7, 8, 9, 10]\n",
      "[1, 2, 3, 4, 5, 6, 7, 8, 9, 10]\n"
     ]
    }
   ],
   "source": [
    "# traditional method\n",
    "testList = []\n",
    "for i in range(10):\n",
    "    testList.append(i+1)\n",
    "    \n",
    "print(testList)\n",
    "\n",
    "# list comprehension method\n",
    "myList = [i+1 for i in range(10)]\n",
    "print(myList)"
   ]
  },
  {
   "cell_type": "markdown",
   "metadata": {},
   "source": [
    "# 15. Iterator and Generator Expressions\n"
   ]
  }
 ],
 "metadata": {
  "kernelspec": {
   "display_name": "Python 3",
   "language": "python",
   "name": "python3"
  },
  "language_info": {
   "codemirror_mode": {
    "name": "ipython",
    "version": 3
   },
   "file_extension": ".py",
   "mimetype": "text/x-python",
   "name": "python",
   "nbconvert_exporter": "python",
   "pygments_lexer": "ipython3",
   "version": "3.7.1"
  }
 },
 "nbformat": 4,
 "nbformat_minor": 2
}
